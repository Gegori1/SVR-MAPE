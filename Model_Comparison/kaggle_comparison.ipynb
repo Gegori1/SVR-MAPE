{
 "cells": [
  {
   "cell_type": "code",
   "execution_count": 8,
   "metadata": {
    "ExecuteTime": {
     "end_time": "2021-07-22T18:23:08.951233Z",
     "start_time": "2021-07-22T18:23:07.618021Z"
    }
   },
   "outputs": [],
   "source": [
    "import pandas as pd\n",
    "import numpy as np\n",
    "from sklearn import metrics\n",
    "import matplotlib.pyplot as plt\n",
    "import seaborn as sns"
   ]
  },
  {
   "cell_type": "markdown",
   "metadata": {},
   "source": [
    "### Importing the Boston Housing dataset"
   ]
  },
  {
   "cell_type": "code",
   "execution_count": 38,
   "metadata": {
    "ExecuteTime": {
     "end_time": "2021-07-23T01:08:25.067656Z",
     "start_time": "2021-07-23T01:08:24.979433Z"
    }
   },
   "outputs": [],
   "source": [
    "from sklearn.datasets import load_boston\n",
    "boston = load_boston()"
   ]
  },
  {
   "cell_type": "code",
   "execution_count": 39,
   "metadata": {
    "ExecuteTime": {
     "end_time": "2021-07-23T01:08:25.301029Z",
     "start_time": "2021-07-23T01:08:25.234153Z"
    }
   },
   "outputs": [],
   "source": [
    "# Initializing the dataframe\n",
    "data = pd.DataFrame(boston.data)\n",
    "\n",
    "data.columns = boston.feature_names\n",
    "\n",
    "data['PRICE'] = boston.target "
   ]
  },
  {
   "cell_type": "code",
   "execution_count": 40,
   "metadata": {
    "ExecuteTime": {
     "end_time": "2021-07-23T01:08:25.860886Z",
     "start_time": "2021-07-23T01:08:25.835386Z"
    }
   },
   "outputs": [],
   "source": [
    "# Spliting target variable and independent variables\n",
    "X = data.drop(['PRICE'], axis = 1)\n",
    "y = data['PRICE']"
   ]
  },
  {
   "cell_type": "code",
   "execution_count": 41,
   "metadata": {
    "ExecuteTime": {
     "end_time": "2021-07-23T01:08:29.286450Z",
     "start_time": "2021-07-23T01:08:29.256566Z"
    }
   },
   "outputs": [],
   "source": [
    "# Splitting to training and testing data\n",
    "from sklearn.model_selection import train_test_split\n",
    "X_train, X_test, y_train, y_test = train_test_split(X,y, test_size = 0.3, random_state = 4)"
   ]
  },
  {
   "cell_type": "markdown",
   "metadata": {},
   "source": [
    "### Linear Regression"
   ]
  },
  {
   "cell_type": "code",
   "execution_count": 42,
   "metadata": {
    "ExecuteTime": {
     "end_time": "2021-07-23T01:08:31.527478Z",
     "start_time": "2021-07-23T01:08:31.497549Z"
    }
   },
   "outputs": [],
   "source": [
    "# Import library for Linear Regression\n",
    "from sklearn.linear_model import LinearRegression"
   ]
  },
  {
   "cell_type": "code",
   "execution_count": 14,
   "metadata": {
    "ExecuteTime": {
     "end_time": "2021-07-22T18:23:10.792223Z",
     "start_time": "2021-07-22T18:23:10.767191Z"
    }
   },
   "outputs": [],
   "source": [
    "# Create a Linear regressor\n",
    "lm = LinearRegression()\n",
    "\n",
    "# Train the model using the training sets \n",
    "lm.fit(X_train, y_train);"
   ]
  },
  {
   "cell_type": "code",
   "execution_count": 15,
   "metadata": {
    "ExecuteTime": {
     "end_time": "2021-07-22T18:23:11.027197Z",
     "start_time": "2021-07-22T18:23:11.009196Z"
    }
   },
   "outputs": [],
   "source": [
    "# Model prediction on train data\n",
    "y_pred = lm.predict(X_train)\n",
    "\n",
    "# Predicting Test data with the model\n",
    "y_test_pred = lm.predict(X_test)"
   ]
  },
  {
   "cell_type": "code",
   "execution_count": 16,
   "metadata": {
    "ExecuteTime": {
     "end_time": "2021-07-22T18:23:11.336439Z",
     "start_time": "2021-07-22T18:23:11.285427Z"
    }
   },
   "outputs": [
    {
     "name": "stdout",
     "output_type": "stream",
     "text": [
      "Linear Regression\n",
      "R^2: 0.7121818377409181\n",
      "Adjusted R^2: 0.6850685326005699\n",
      "MAE: 3.859005592370746\n",
      "MSE: 30.053993307124284\n",
      "RMSE: 5.482152251362988\n",
      "MAPE 17.849125536283495\n"
     ]
    }
   ],
   "source": [
    "# Model Evaluation\n",
    "acc_linreg = metrics.r2_score(y_test, y_test_pred)\n",
    "print('Linear Regression')\n",
    "print('R^2:', acc_linreg)\n",
    "print('Adjusted R^2:',1 - (1-metrics.r2_score(y_test, y_test_pred))*(len(y_test)-1)/(len(y_test)-X_test.shape[1]-1))\n",
    "print('MAE:',metrics.mean_absolute_error(y_test, y_test_pred))\n",
    "print('MSE:',metrics.mean_squared_error(y_test, y_test_pred))\n",
    "print('RMSE:',np.sqrt(metrics.mean_squared_error(y_test, y_test_pred)))\n",
    "print('MAPE',np.mean(np.abs(( y_test - y_test_pred)/y_test))*100)"
   ]
  },
  {
   "cell_type": "markdown",
   "metadata": {
    "ExecuteTime": {
     "end_time": "2021-06-23T04:00:49.350499Z",
     "start_time": "2021-06-23T04:00:49.331464Z"
    }
   },
   "source": [
    "### Random Forest"
   ]
  },
  {
   "cell_type": "code",
   "execution_count": 17,
   "metadata": {
    "ExecuteTime": {
     "end_time": "2021-07-22T18:23:12.498670Z",
     "start_time": "2021-07-22T18:23:12.102747Z"
    }
   },
   "outputs": [],
   "source": [
    "from sklearn.ensemble import RandomForestRegressor"
   ]
  },
  {
   "cell_type": "code",
   "execution_count": 18,
   "metadata": {
    "ExecuteTime": {
     "end_time": "2021-07-22T18:23:12.985151Z",
     "start_time": "2021-07-22T18:23:12.498670Z"
    }
   },
   "outputs": [],
   "source": [
    "# Create a Random Forest Regressor\n",
    "reg = RandomForestRegressor()\n",
    "\n",
    "# Train the model using the training sets \n",
    "reg.fit(X_train, y_train);"
   ]
  },
  {
   "cell_type": "code",
   "execution_count": 19,
   "metadata": {
    "ExecuteTime": {
     "end_time": "2021-07-22T18:23:13.048163Z",
     "start_time": "2021-07-22T18:23:12.989150Z"
    }
   },
   "outputs": [],
   "source": [
    "# Model prediction on train data\n",
    "y_pred = reg.predict(X_train)\n",
    "\n",
    "# Predicting Test data with the model\n",
    "y_test_pred = reg.predict(X_test)"
   ]
  },
  {
   "cell_type": "code",
   "execution_count": 20,
   "metadata": {
    "ExecuteTime": {
     "end_time": "2021-07-22T18:23:13.079157Z",
     "start_time": "2021-07-22T18:23:13.052154Z"
    }
   },
   "outputs": [
    {
     "name": "stdout",
     "output_type": "stream",
     "text": [
      "Sklearn Random Forest\n",
      "R^2: 0.8246054984193196\n",
      "Adjusted R^2: 0.8080828279805599\n",
      "MAE: 2.5032697368421055\n",
      "MSE: 18.31470653289474\n",
      "RMSE: 4.2795684984463955\n",
      "MAPE 11.837845406377234\n"
     ]
    }
   ],
   "source": [
    "# Model Evaluation\n",
    "acc_rf = metrics.r2_score(y_test, y_test_pred)\n",
    "print('Sklearn Random Forest')\n",
    "print('R^2:', acc_rf)\n",
    "print('Adjusted R^2:',1 - (1-metrics.r2_score(y_test, y_test_pred))*(len(y_test)-1)/(len(y_test)-X_test.shape[1]-1))\n",
    "print('MAE:',metrics.mean_absolute_error(y_test, y_test_pred))\n",
    "print('MSE:',metrics.mean_squared_error(y_test, y_test_pred))\n",
    "print('RMSE:',np.sqrt(metrics.mean_squared_error(y_test, y_test_pred)))\n",
    "print('MAPE',np.mean(np.abs(( y_test - y_test_pred)/y_test))*100)"
   ]
  },
  {
   "cell_type": "markdown",
   "metadata": {},
   "source": [
    "### XGBoost Regressor"
   ]
  },
  {
   "cell_type": "code",
   "execution_count": 21,
   "metadata": {
    "ExecuteTime": {
     "end_time": "2021-07-22T18:23:14.008524Z",
     "start_time": "2021-07-22T18:23:13.810609Z"
    }
   },
   "outputs": [],
   "source": [
    "# Import XGBoost Regressor\n",
    "from xgboost import XGBRegressor"
   ]
  },
  {
   "cell_type": "code",
   "execution_count": 22,
   "metadata": {
    "ExecuteTime": {
     "end_time": "2021-07-22T18:23:15.011750Z",
     "start_time": "2021-07-22T18:23:14.096762Z"
    }
   },
   "outputs": [],
   "source": [
    "#Create a XGBoost Regressor\n",
    "reg = XGBRegressor(objective = \"reg:squarederror\")\n",
    "\n",
    "# Train the model using the training sets \n",
    "reg.fit(X_train, y_train);"
   ]
  },
  {
   "cell_type": "code",
   "execution_count": 23,
   "metadata": {
    "ExecuteTime": {
     "end_time": "2021-07-22T18:23:15.036376Z",
     "start_time": "2021-07-22T18:23:15.011750Z"
    }
   },
   "outputs": [],
   "source": [
    "# Model prediction on train data\n",
    "y_pred = reg.predict(X_train)\n",
    "\n",
    "#Predicting Test data with the model\n",
    "y_test_pred = reg.predict(X_test)"
   ]
  },
  {
   "cell_type": "code",
   "execution_count": 24,
   "metadata": {
    "ExecuteTime": {
     "end_time": "2021-07-22T18:23:15.546801Z",
     "start_time": "2021-07-22T18:23:15.513488Z"
    }
   },
   "outputs": [
    {
     "name": "stdout",
     "output_type": "stream",
     "text": [
      "XGBoost Regressor\n",
      "R^2: 0.8494894736313225\n",
      "Adjusted R^2: 0.8353109457849979\n",
      "MAE: 2.4509708843733136\n",
      "MSE: 15.716320042597493\n",
      "RMSE: 3.9643814199188117\n",
      "MAPE 11.825216365526034\n"
     ]
    }
   ],
   "source": [
    "# Model Evaluation\n",
    "acc_xgb = metrics.r2_score(y_test, y_test_pred)\n",
    "print('XGBoost Regressor')\n",
    "print('R^2:', acc_xgb)\n",
    "print('Adjusted R^2:',1 - (1-metrics.r2_score(y_test, y_test_pred))*(len(y_test)-1)/(len(y_test)-X_test.shape[1]-1))\n",
    "print('MAE:',metrics.mean_absolute_error(y_test, y_test_pred))\n",
    "print('MSE:',metrics.mean_squared_error(y_test, y_test_pred))\n",
    "print('RMSE:',np.sqrt(metrics.mean_squared_error(y_test, y_test_pred)))\n",
    "print('MAPE',np.mean(np.abs(( y_test - y_test_pred)/y_test))*100)"
   ]
  },
  {
   "cell_type": "markdown",
   "metadata": {},
   "source": [
    "### SVR"
   ]
  },
  {
   "cell_type": "code",
   "execution_count": 25,
   "metadata": {
    "ExecuteTime": {
     "end_time": "2021-07-22T18:23:16.680808Z",
     "start_time": "2021-07-22T18:23:16.672799Z"
    }
   },
   "outputs": [],
   "source": [
    "# Creating scaled set to be used in model to improve our results\n",
    "from sklearn.preprocessing import StandardScaler\n",
    "# Import SVM Regressor\n",
    "from sklearn import svm"
   ]
  },
  {
   "cell_type": "code",
   "execution_count": 26,
   "metadata": {
    "ExecuteTime": {
     "end_time": "2021-07-22T18:23:17.065209Z",
     "start_time": "2021-07-22T18:23:17.041245Z"
    }
   },
   "outputs": [],
   "source": [
    "sc = StandardScaler()\n",
    "X_train = sc.fit_transform(X_train)\n",
    "X_test = sc.transform(X_test)"
   ]
  },
  {
   "cell_type": "code",
   "execution_count": 27,
   "metadata": {
    "ExecuteTime": {
     "end_time": "2021-07-22T18:23:17.425205Z",
     "start_time": "2021-07-22T18:23:17.393206Z"
    }
   },
   "outputs": [],
   "source": [
    "# Create a SVM Regressor\n",
    "reg = svm.SVR()\n",
    "# Train the model using the training sets \n",
    "reg.fit(X_train, y_train);"
   ]
  },
  {
   "cell_type": "code",
   "execution_count": 28,
   "metadata": {
    "ExecuteTime": {
     "end_time": "2021-07-22T18:23:17.849238Z",
     "start_time": "2021-07-22T18:23:17.817204Z"
    }
   },
   "outputs": [],
   "source": [
    "# Model prediction on train data\n",
    "y_pred = reg.predict(X_train)\n",
    "# Predicting Test data with the model\n",
    "y_test_pred = reg.predict(X_test)"
   ]
  },
  {
   "cell_type": "code",
   "execution_count": 29,
   "metadata": {
    "ExecuteTime": {
     "end_time": "2021-07-22T18:23:18.152215Z",
     "start_time": "2021-07-22T18:23:18.128174Z"
    }
   },
   "outputs": [
    {
     "name": "stdout",
     "output_type": "stream",
     "text": [
      "Sklearn SVR\n",
      "R^2: 0.5900158460478174\n",
      "Adjusted R^2: 0.5513941503856553\n",
      "MAE: 3.7561453553021686\n",
      "MSE: 42.81057499010247\n",
      "RMSE: 6.542979060802691\n",
      "MAPE 15.233617846561351\n"
     ]
    }
   ],
   "source": [
    "# Model Evaluation\n",
    "acc_svm = metrics.r2_score(y_test, y_test_pred)\n",
    "print('Sklearn SVR')\n",
    "print('R^2:', acc_svm)\n",
    "print('Adjusted R^2:',1 - (1-metrics.r2_score(y_test, y_test_pred))*(len(y_test)-1)/(len(y_test)-X_test.shape[1]-1))\n",
    "print('MAE:',metrics.mean_absolute_error(y_test, y_test_pred))\n",
    "print('MSE:',metrics.mean_squared_error(y_test, y_test_pred))\n",
    "print('RMSE:',np.sqrt(metrics.mean_squared_error(y_test, y_test_pred)))\n",
    "print('MAPE',np.mean(np.abs(( y_test - y_test_pred)/y_test))*100)"
   ]
  },
  {
   "cell_type": "markdown",
   "metadata": {},
   "source": [
    "### SVR MAPE"
   ]
  },
  {
   "cell_type": "code",
   "execution_count": 33,
   "metadata": {
    "ExecuteTime": {
     "end_time": "2021-07-22T18:24:05.234201Z",
     "start_time": "2021-07-22T18:24:03.649632Z"
    }
   },
   "outputs": [],
   "source": [
    "# Creating scaled set to be used in model to improve our results\n",
    "from sklearn.preprocessing import StandardScaler\n",
    "# Import SVR Mape\n",
    "%run ..//Library//SVRmape_Library.ipynb"
   ]
  },
  {
   "cell_type": "code",
   "execution_count": 34,
   "metadata": {
    "ExecuteTime": {
     "end_time": "2021-07-22T18:24:05.971216Z",
     "start_time": "2021-07-22T18:24:05.955178Z"
    }
   },
   "outputs": [],
   "source": [
    "sc = StandardScaler()\n",
    "X_train = sc.fit_transform(X_train)\n",
    "X_test = sc.transform(X_test)"
   ]
  },
  {
   "cell_type": "code",
   "execution_count": 35,
   "metadata": {
    "ExecuteTime": {
     "end_time": "2021-07-22T18:24:07.221028Z",
     "start_time": "2021-07-22T18:24:06.740273Z"
    }
   },
   "outputs": [],
   "source": [
    "# Create a SVM Regressor\n",
    "model = SVR_mape(\n",
    "    kernel = \"rbf\", \n",
    "    C = 15.631280, \n",
    "    epsilon = 5.804601, \n",
    "    gamma = 0.032920\n",
    ")\n",
    "# Train the model using the training sets \n",
    "model.fit(X_train,y_train);"
   ]
  },
  {
   "cell_type": "code",
   "execution_count": 36,
   "metadata": {
    "ExecuteTime": {
     "end_time": "2021-07-22T18:24:07.859182Z",
     "start_time": "2021-07-22T18:24:07.835138Z"
    }
   },
   "outputs": [],
   "source": [
    "# Model prediction on train data\n",
    "y_pred = model.predict(X_train)\n",
    "# Predicting Test data with the model\n",
    "y_test_pred = model.predict(X_test)"
   ]
  },
  {
   "cell_type": "code",
   "execution_count": null,
   "metadata": {},
   "outputs": [],
   "source": []
  },
  {
   "cell_type": "code",
   "execution_count": 37,
   "metadata": {
    "ExecuteTime": {
     "end_time": "2021-07-22T18:24:09.419180Z",
     "start_time": "2021-07-22T18:24:09.387138Z"
    }
   },
   "outputs": [
    {
     "name": "stdout",
     "output_type": "stream",
     "text": [
      "SVR MAPE\n",
      "R^2: 0.8602501560371553\n",
      "Adjusted R^2: 0.8470853156638438\n",
      "MAE: 2.2054266298053777\n",
      "MSE: 14.592688807978343\n",
      "RMSE: 3.820037801904366\n",
      "MAPE 10.286618730776878\n"
     ]
    }
   ],
   "source": [
    "# Model Evaluation\n",
    "acc_svm = metrics.r2_score(y_test, y_test_pred)\n",
    "print('SVR MAPE')\n",
    "print('R^2:', acc_svm)\n",
    "print('Adjusted R^2:',1 - (1-metrics.r2_score(y_test, y_test_pred))*(len(y_test)-1)/(len(y_test)-X_test.shape[1]-1))\n",
    "print('MAE:',metrics.mean_absolute_error(y_test, y_test_pred))\n",
    "print('MSE:',metrics.mean_squared_error(y_test, y_test_pred))\n",
    "print('RMSE:',np.sqrt(metrics.mean_squared_error(y_test, y_test_pred)))\n",
    "print('MAPE',np.mean(np.abs(( y_test - y_test_pred)/y_test))*100)"
   ]
  }
 ],
 "metadata": {
  "kernelspec": {
   "display_name": "Python 3",
   "language": "python",
   "name": "python3"
  },
  "language_info": {
   "codemirror_mode": {
    "name": "ipython",
    "version": 3
   },
   "file_extension": ".py",
   "mimetype": "text/x-python",
   "name": "python",
   "nbconvert_exporter": "python",
   "pygments_lexer": "ipython3",
   "version": "3.7.7"
  },
  "toc": {
   "base_numbering": 1,
   "nav_menu": {},
   "number_sections": true,
   "sideBar": true,
   "skip_h1_title": false,
   "title_cell": "Table of Contents",
   "title_sidebar": "Contents",
   "toc_cell": false,
   "toc_position": {},
   "toc_section_display": true,
   "toc_window_display": false
  }
 },
 "nbformat": 4,
 "nbformat_minor": 4
}
